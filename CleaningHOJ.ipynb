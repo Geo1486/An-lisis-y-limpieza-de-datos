{
 "cells": [
  {
   "cell_type": "code",
   "execution_count": 1,
   "metadata": {},
   "outputs": [],
   "source": [
    "import pandas as pd"
   ]
  },
  {
   "cell_type": "code",
   "execution_count": 2,
   "metadata": {},
   "outputs": [],
   "source": [
    "df = pd.read_csv(\"homicidios_source.csv\")"
   ]
  },
  {
   "cell_type": "code",
   "execution_count": 3,
   "metadata": {},
   "outputs": [
    {
     "data": {
      "text/plain": [
       "(84294, 9)"
      ]
     },
     "execution_count": 3,
     "metadata": {},
     "output_type": "execute_result"
    }
   ],
   "source": [
    "df.shape"
   ]
  },
  {
   "cell_type": "code",
   "execution_count": 4,
   "metadata": {},
   "outputs": [
    {
     "name": "stdout",
     "output_type": "stream",
     "text": [
      "<class 'pandas.core.frame.DataFrame'>\n",
      "RangeIndex: 84294 entries, 0 to 84293\n",
      "Data columns (total 9 columns):\n",
      " #   Column                Non-Null Count  Dtype  \n",
      "---  ------                --------------  -----  \n",
      " 0   DEPARTAMENTO          82354 non-null  object \n",
      " 1   MUNICIPIO             82354 non-null  object \n",
      " 2   CODIGO DANE           82354 non-null  float64\n",
      " 3   ARMAS MEDIOS          82354 non-null  object \n",
      " 4   FECHA HECHO           82354 non-null  object \n",
      " 5   GENERO                82354 non-null  object \n",
      " 6   GRUPO ETARÍO          82354 non-null  object \n",
      " 7   DESCRIPCIÓN CONDUCTA  84294 non-null  object \n",
      " 8   CANTIDAD              82354 non-null  float64\n",
      "dtypes: float64(2), object(7)\n",
      "memory usage: 5.8+ MB\n"
     ]
    }
   ],
   "source": [
    "df.info()"
   ]
  },
  {
   "cell_type": "code",
   "execution_count": 5,
   "metadata": {},
   "outputs": [],
   "source": [
    "df_cleaned = df.drop(columns=[\"CODIGO DANE\", \"DESCRIPCIÓN CONDUCTA\"])"
   ]
  },
  {
   "cell_type": "code",
   "execution_count": 6,
   "metadata": {},
   "outputs": [
    {
     "name": "stdout",
     "output_type": "stream",
     "text": [
      "<class 'pandas.core.frame.DataFrame'>\n",
      "RangeIndex: 84294 entries, 0 to 84293\n",
      "Data columns (total 7 columns):\n",
      " #   Column        Non-Null Count  Dtype  \n",
      "---  ------        --------------  -----  \n",
      " 0   DEPARTAMENTO  82354 non-null  object \n",
      " 1   MUNICIPIO     82354 non-null  object \n",
      " 2   ARMAS MEDIOS  82354 non-null  object \n",
      " 3   FECHA HECHO   82354 non-null  object \n",
      " 4   GENERO        82354 non-null  object \n",
      " 5   GRUPO ETARÍO  82354 non-null  object \n",
      " 6   CANTIDAD      82354 non-null  float64\n",
      "dtypes: float64(1), object(6)\n",
      "memory usage: 4.5+ MB\n"
     ]
    }
   ],
   "source": [
    "df_cleaned.info()"
   ]
  },
  {
   "cell_type": "code",
   "execution_count": 7,
   "metadata": {},
   "outputs": [],
   "source": [
    "df_cleaned.rename(columns={'ARMAS MEDIOS': 'ARMAS_MEDIOS'}, inplace=True)\n",
    "df_cleaned.rename(columns={'FECHA HECHO': 'FECHA_HECHO'}, inplace=True)\n",
    "df_cleaned.rename(columns={'GRUPO ETARÍO': 'GRUPO_ETARIO'}, inplace=True)"
   ]
  },
  {
   "cell_type": "code",
   "execution_count": 8,
   "metadata": {},
   "outputs": [
    {
     "name": "stdout",
     "output_type": "stream",
     "text": [
      "<class 'pandas.core.frame.DataFrame'>\n",
      "RangeIndex: 84294 entries, 0 to 84293\n",
      "Data columns (total 7 columns):\n",
      " #   Column        Non-Null Count  Dtype  \n",
      "---  ------        --------------  -----  \n",
      " 0   DEPARTAMENTO  82354 non-null  object \n",
      " 1   MUNICIPIO     82354 non-null  object \n",
      " 2   ARMAS_MEDIOS  82354 non-null  object \n",
      " 3   FECHA_HECHO   82354 non-null  object \n",
      " 4   GENERO        82354 non-null  object \n",
      " 5   GRUPO_ETARIO  82354 non-null  object \n",
      " 6   CANTIDAD      82354 non-null  float64\n",
      "dtypes: float64(1), object(6)\n",
      "memory usage: 4.5+ MB\n"
     ]
    }
   ],
   "source": [
    "df_cleaned.info()"
   ]
  },
  {
   "cell_type": "code",
   "execution_count": 9,
   "metadata": {},
   "outputs": [],
   "source": [
    "df_cleaned = df_cleaned.dropna()"
   ]
  },
  {
   "cell_type": "code",
   "execution_count": 10,
   "metadata": {},
   "outputs": [
    {
     "data": {
      "text/plain": [
       "(82354, 7)"
      ]
     },
     "execution_count": 10,
     "metadata": {},
     "output_type": "execute_result"
    }
   ],
   "source": [
    "df_cleaned.shape"
   ]
  },
  {
   "cell_type": "code",
   "execution_count": 11,
   "metadata": {},
   "outputs": [
    {
     "data": {
      "text/plain": [
       "1940"
      ]
     },
     "execution_count": 11,
     "metadata": {},
     "output_type": "execute_result"
    }
   ],
   "source": [
    "rows_before = df.shape[0]\n",
    "rows_after = df_cleaned.shape[0]\n",
    "\n",
    "rows_before - rows_after"
   ]
  },
  {
   "cell_type": "code",
   "execution_count": 12,
   "metadata": {},
   "outputs": [
    {
     "name": "stdout",
     "output_type": "stream",
     "text": [
      "<class 'pandas.core.frame.DataFrame'>\n",
      "Index: 82354 entries, 0 to 82353\n",
      "Data columns (total 7 columns):\n",
      " #   Column        Non-Null Count  Dtype  \n",
      "---  ------        --------------  -----  \n",
      " 0   DEPARTAMENTO  82354 non-null  object \n",
      " 1   MUNICIPIO     82354 non-null  object \n",
      " 2   ARMAS_MEDIOS  82354 non-null  object \n",
      " 3   FECHA_HECHO   82354 non-null  object \n",
      " 4   GENERO        82354 non-null  object \n",
      " 5   GRUPO_ETARIO  82354 non-null  object \n",
      " 6   CANTIDAD      82354 non-null  float64\n",
      "dtypes: float64(1), object(6)\n",
      "memory usage: 5.0+ MB\n"
     ]
    }
   ],
   "source": [
    "df_cleaned.info()"
   ]
  },
  {
   "cell_type": "code",
   "execution_count": 13,
   "metadata": {},
   "outputs": [],
   "source": [
    "df_cleaned['DEPARTAMENTO'] = df_cleaned['DEPARTAMENTO'].astype('string')\n",
    "df_cleaned['MUNICIPIO'] = df_cleaned['MUNICIPIO'].astype('string')\n",
    "df_cleaned['ARMAS_MEDIOS'] = df_cleaned['ARMAS_MEDIOS'].astype('string')\n",
    "df_cleaned['GENERO'] = df_cleaned['GENERO'].astype('string')\n",
    "df_cleaned['GRUPO_ETARIO'] = df_cleaned['GRUPO_ETARIO'].astype('string')\n",
    "df_cleaned['CANTIDAD'] = df_cleaned['CANTIDAD'].astype('int')"
   ]
  },
  {
   "cell_type": "code",
   "execution_count": 14,
   "metadata": {},
   "outputs": [
    {
     "name": "stdout",
     "output_type": "stream",
     "text": [
      "<class 'pandas.core.frame.DataFrame'>\n",
      "Index: 82354 entries, 0 to 82353\n",
      "Data columns (total 7 columns):\n",
      " #   Column        Non-Null Count  Dtype \n",
      "---  ------        --------------  ----- \n",
      " 0   DEPARTAMENTO  82354 non-null  string\n",
      " 1   MUNICIPIO     82354 non-null  string\n",
      " 2   ARMAS_MEDIOS  82354 non-null  string\n",
      " 3   FECHA_HECHO   82354 non-null  object\n",
      " 4   GENERO        82354 non-null  string\n",
      " 5   GRUPO_ETARIO  82354 non-null  string\n",
      " 6   CANTIDAD      82354 non-null  int64 \n",
      "dtypes: int64(1), object(1), string(5)\n",
      "memory usage: 5.0+ MB\n"
     ]
    }
   ],
   "source": [
    "df_cleaned.info()"
   ]
  },
  {
   "cell_type": "code",
   "execution_count": 15,
   "metadata": {},
   "outputs": [],
   "source": [
    "df_cleaned.FECHA_HECHO = pd.to_datetime(df_cleaned.FECHA_HECHO, format=\"%d/%m/%Y\")"
   ]
  },
  {
   "cell_type": "code",
   "execution_count": 16,
   "metadata": {},
   "outputs": [],
   "source": [
    "df_cleaned.dropna(subset=[\"FECHA_HECHO\"], inplace = True)"
   ]
  },
  {
   "cell_type": "code",
   "execution_count": 17,
   "metadata": {},
   "outputs": [
    {
     "data": {
      "text/plain": [
       "count                            82354\n",
       "mean     2018-07-18 01:07:26.491973632\n",
       "min                2010-01-01 00:00:00\n",
       "25%                2014-12-24 00:00:00\n",
       "50%                2019-01-01 00:00:00\n",
       "75%                2022-08-06 00:00:00\n",
       "max                2024-10-31 00:00:00\n",
       "Name: FECHA_HECHO, dtype: object"
      ]
     },
     "execution_count": 17,
     "metadata": {},
     "output_type": "execute_result"
    }
   ],
   "source": [
    "df_cleaned.FECHA_HECHO.describe()"
   ]
  },
  {
   "cell_type": "code",
   "execution_count": 18,
   "metadata": {},
   "outputs": [
    {
     "data": {
      "text/plain": [
       "['BICICLETA',\n",
       " 'CONTUNDENTES',\n",
       " 'MOTO',\n",
       " 'NO REPORTADO',\n",
       " 'NO REPOTADO',\n",
       " 'SIN EMPLEO DE ARMAS',\n",
       " 'TREN',\n",
       " 'VEHICULO']"
      ]
     },
     "execution_count": 18,
     "metadata": {},
     "output_type": "execute_result"
    }
   ],
   "source": [
    "sorted(df_cleaned.ARMAS_MEDIOS.unique())"
   ]
  },
  {
   "cell_type": "code",
   "execution_count": 19,
   "metadata": {},
   "outputs": [],
   "source": [
    "df_cleaned.ARMAS_MEDIOS = df_cleaned.ARMAS_MEDIOS.replace(\"NO REPOTADO\", \"NO REPORTADO\")"
   ]
  },
  {
   "cell_type": "code",
   "execution_count": 20,
   "metadata": {},
   "outputs": [
    {
     "data": {
      "text/plain": [
       "['BICICLETA',\n",
       " 'CONTUNDENTES',\n",
       " 'MOTO',\n",
       " 'NO REPORTADO',\n",
       " 'SIN EMPLEO DE ARMAS',\n",
       " 'TREN',\n",
       " 'VEHICULO']"
      ]
     },
     "execution_count": 20,
     "metadata": {},
     "output_type": "execute_result"
    }
   ],
   "source": [
    "sorted(df_cleaned.ARMAS_MEDIOS.unique())"
   ]
  },
  {
   "cell_type": "code",
   "execution_count": 21,
   "metadata": {},
   "outputs": [
    {
     "data": {
      "text/plain": [
       "['FEMENINO', 'MASCULINO', 'NO REPORTA', 'NO REPORTADO', 'NO REPOTADO']"
      ]
     },
     "execution_count": 21,
     "metadata": {},
     "output_type": "execute_result"
    }
   ],
   "source": [
    "sorted(df_cleaned.GENERO.unique())"
   ]
  },
  {
   "cell_type": "code",
   "execution_count": 22,
   "metadata": {},
   "outputs": [],
   "source": [
    "df_cleaned.GENERO = df_cleaned.GENERO.replace(\"NO REPORTADO\", \"NO REPORTA\")\n",
    "df_cleaned.GENERO = df_cleaned.GENERO.replace(\"NO REPOTADO\", \"NO REPORTA\")"
   ]
  },
  {
   "cell_type": "code",
   "execution_count": 23,
   "metadata": {},
   "outputs": [
    {
     "data": {
      "text/plain": [
       "['FEMENINO', 'MASCULINO', 'NO REPORTA']"
      ]
     },
     "execution_count": 23,
     "metadata": {},
     "output_type": "execute_result"
    }
   ],
   "source": [
    "sorted(df_cleaned.GENERO.unique())"
   ]
  },
  {
   "cell_type": "code",
   "execution_count": 24,
   "metadata": {},
   "outputs": [
    {
     "data": {
      "text/plain": [
       "['ADOLESCENTES', 'ADULTOS', 'MENORES', 'NO REPORTADO', 'NO REPOTADO']"
      ]
     },
     "execution_count": 24,
     "metadata": {},
     "output_type": "execute_result"
    }
   ],
   "source": [
    "sorted(df_cleaned.GRUPO_ETARIO.unique())"
   ]
  },
  {
   "cell_type": "code",
   "execution_count": 25,
   "metadata": {},
   "outputs": [],
   "source": [
    "df_cleaned.GRUPO_ETARIO = df_cleaned.GRUPO_ETARIO.replace(\"NO REPOTADO\", \"NO REPORTADO\")"
   ]
  },
  {
   "cell_type": "code",
   "execution_count": 26,
   "metadata": {},
   "outputs": [
    {
     "data": {
      "text/plain": [
       "['ADOLESCENTES', 'ADULTOS', 'MENORES', 'NO REPORTADO']"
      ]
     },
     "execution_count": 26,
     "metadata": {},
     "output_type": "execute_result"
    }
   ],
   "source": [
    "sorted(df_cleaned.GRUPO_ETARIO.unique())"
   ]
  },
  {
   "cell_type": "code",
   "execution_count": 27,
   "metadata": {},
   "outputs": [],
   "source": [
    "df_cleaned.drop_duplicates(subset=None, keep='first', inplace=True)"
   ]
  },
  {
   "cell_type": "code",
   "execution_count": 28,
   "metadata": {},
   "outputs": [
    {
     "data": {
      "text/plain": [
       "(76467, 7)"
      ]
     },
     "execution_count": 28,
     "metadata": {},
     "output_type": "execute_result"
    }
   ],
   "source": [
    "df_cleaned.shape"
   ]
  },
  {
   "cell_type": "code",
   "execution_count": 29,
   "metadata": {},
   "outputs": [
    {
     "name": "stdout",
     "output_type": "stream",
     "text": [
      "<class 'pandas.core.frame.DataFrame'>\n",
      "Index: 76467 entries, 0 to 82353\n",
      "Data columns (total 7 columns):\n",
      " #   Column        Non-Null Count  Dtype         \n",
      "---  ------        --------------  -----         \n",
      " 0   DEPARTAMENTO  76467 non-null  string        \n",
      " 1   MUNICIPIO     76467 non-null  string        \n",
      " 2   ARMAS_MEDIOS  76467 non-null  string        \n",
      " 3   FECHA_HECHO   76467 non-null  datetime64[ns]\n",
      " 4   GENERO        76467 non-null  string        \n",
      " 5   GRUPO_ETARIO  76467 non-null  string        \n",
      " 6   CANTIDAD      76467 non-null  int64         \n",
      "dtypes: datetime64[ns](1), int64(1), string(5)\n",
      "memory usage: 4.7 MB\n"
     ]
    }
   ],
   "source": [
    "df_cleaned.info()"
   ]
  },
  {
   "cell_type": "code",
   "execution_count": 30,
   "metadata": {},
   "outputs": [],
   "source": [
    "df_cleaned.to_csv(\"homicidios_clean.csv\", index=False)"
   ]
  },
  {
   "cell_type": "code",
   "execution_count": 31,
   "metadata": {},
   "outputs": [
    {
     "name": "stdout",
     "output_type": "stream",
     "text": [
      "\n",
      "El archivo CSV ha sido guardado.\n"
     ]
    }
   ],
   "source": [
    "print(\"\\nEl archivo CSV ha sido guardado.\")"
   ]
  }
 ],
 "metadata": {
  "kernelspec": {
   "display_name": "Python 3",
   "language": "python",
   "name": "python3"
  },
  "language_info": {
   "codemirror_mode": {
    "name": "ipython",
    "version": 3
   },
   "file_extension": ".py",
   "mimetype": "text/x-python",
   "name": "python",
   "nbconvert_exporter": "python",
   "pygments_lexer": "ipython3",
   "version": "3.13.2"
  }
 },
 "nbformat": 4,
 "nbformat_minor": 2
}
